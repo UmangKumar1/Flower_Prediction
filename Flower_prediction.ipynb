{
 "cells": [
  {
   "cell_type": "code",
   "execution_count": 1,
   "metadata": {},
   "outputs": [],
   "source": [
    "%matplotlib inline"
   ]
  },
  {
   "cell_type": "code",
   "execution_count": 3,
   "metadata": {},
   "outputs": [],
   "source": [
    "from matplotlib import pyplot as plt\n",
    "import numpy as np"
   ]
  },
  {
   "cell_type": "code",
   "execution_count": 68,
   "metadata": {},
   "outputs": [],
   "source": [
    "#each point is legnth, width, type\n",
    "data = [[3,1.5,1],\n",
    "        [2,1,0],\n",
    "        [4,1.5,1],\n",
    "        [3,1,0],\n",
    "        [3.5,.5,1],\n",
    "        [2,.5,0],\n",
    "        [5.5,1,1],\n",
    "        ]\n",
    "mystery_flower = [4.5,1]"
   ]
  },
  {
   "cell_type": "code",
   "execution_count": null,
   "metadata": {},
   "outputs": [],
   "source": [
    "#network\n",
    "#      o   flower type\n",
    "#     / \\   w1, w2, b\n",
    "#    o   o length and width"
   ]
  },
  {
   "cell_type": "code",
   "execution_count": 54,
   "metadata": {},
   "outputs": [],
   "source": [
    "def sigmoid(x):\n",
    "    return 1/(1 + np.exp(-x))\n",
    "def sigmoid_p(x):\n",
    "    return sigmoid(x)*(1-sigmoid(x))"
   ]
  },
  {
   "cell_type": "code",
   "execution_count": 51,
   "metadata": {},
   "outputs": [],
   "source": [
    "T = np.linspace(-5,5,10)"
   ]
  },
  {
   "cell_type": "code",
   "execution_count": 96,
   "metadata": {},
   "outputs": [],
   "source": [
    "y1 = sigmoid_p(T)\n",
    "y2 = sigmoid(T)"
   ]
  },
  {
   "cell_type": "code",
   "execution_count": 95,
   "metadata": {},
   "outputs": [
    {
     "data": {
      "text/plain": [
       "[<matplotlib.lines.Line2D at 0x11bf64da0>]"
      ]
     },
     "execution_count": 95,
     "metadata": {},
     "output_type": "execute_result"
    },
    {
     "data": {
      "image/png": "[encoded data removed]",
      "text/plain": [
       "<Figure size 432x288 with 1 Axes>"
      ]
     },
     "metadata": {
      "needs_background": "light"
     },
     "output_type": "display_data"
    }
   ],
   "source": [
    "plt.plot(T, y1)\n",
    "plt.plot(T,y2)\n"
   ]
  },
  {
   "cell_type": "code",
   "execution_count": 69,
   "metadata": {},
   "outputs": [
    {
     "data": {
      "image/png": "[encoded data removed]",
      "text/plain": [
       "<Figure size 432x288 with 1 Axes>"
      ]
     },
     "metadata": {
      "needs_background": "light"
     },
     "output_type": "display_data"
    }
   ],
   "source": [
    "#scatter plot\n",
    "plt.axis([0,6,0,6])\n",
    "plt.grid()\n",
    "for i in range(len(data)):\n",
    "    point = data[i]\n",
    "    color = 'r'\n",
    "    if point[2]== 0:\n",
    "        color = 'b'\n",
    "    plt.scatter(point[0], point[1], c = color)"
   ]
  },
  {
   "cell_type": "code",
   "execution_count": 113,
   "metadata": {},
   "outputs": [
    {
     "name": "stdout",
     "output_type": "stream",
     "text": [
      "0.001474749580600451\n",
      "0.23808866193262523\n",
      "0.018165498879023283\n",
      "6.113507268802501e-10\n",
      "5.758439264367996e-07\n",
      "4.202663397705446e-05\n",
      "7.111988730736208e-11\n",
      "0.0006843222593939745\n",
      "3.860059394878215e-06\n",
      "5.198278676814583e-05\n",
      "0.26627354225533995\n",
      "9.126719397443312e-07\n",
      "8.716905035655571e-08\n",
      "1.5195829881721812e-12\n",
      "7.48430956760952e-15\n",
      "2.4830787891392924e-07\n",
      "1.843353991223911e-07\n",
      "8.358892314661278e-09\n",
      "0.12029806016555354\n",
      "0.027640619503099494\n",
      "0.16697088503457547\n",
      "2.930224597126031e-10\n",
      "2.530692052522315e-16\n",
      "3.741083853209418e-17\n",
      "2.3951206744366976e-08\n",
      "0.018056752884874905\n",
      "0.10385328157410903\n",
      "1.6758943188236767e-11\n",
      "0.25390208202897396\n",
      "1.2342970198419005e-21\n",
      "0.07436996764252166\n",
      "9.011435893303281e-12\n",
      "0.055786621782978434\n",
      "8.074906727577038e-22\n",
      "1.2618949579810961e-10\n",
      "3.0030296806432787e-10\n",
      "0.009465506796744943\n",
      "0.10737480396097662\n",
      "1.2607240608423654e-11\n",
      "1.3563250194418294e-23\n",
      "0.04586319551266308\n",
      "0.10948838605177257\n",
      "1.18153327106836e-13\n",
      "0.1468789259763047\n",
      "1.2970108612243762e-11\n",
      "6.330962429990782e-12\n",
      "0.18361782583777564\n",
      "1.2881858448173654e-14\n",
      "1.4299134356688284e-25\n",
      "0.007004856062166459\n",
      "3.5011308469894115e-13\n",
      "9.512286940761923e-26\n",
      "4.374254093375704e-12\n",
      "4.283009810374449e-15\n",
      "1.1651529868545031e-12\n",
      "1.6585800532271773e-26\n",
      "0.013039515617864515\n",
      "7.272381383585045e-13\n",
      "4.1938862976793654e-16\n",
      "3.6208863023597333e-16\n",
      "1.3666475995944623e-16\n",
      "0.008470743370585065\n",
      "1.3349366129478713e-13\n",
      "0.025002551843019968\n",
      "2.611250040704894e-16\n",
      "0.015388658149753333\n",
      "3.7883249944576804e-14\n",
      "0.018370760279516424\n",
      "0.013965044676586626\n",
      "2.727114930927699e-14\n",
      "6.724610432002487e-17\n",
      "2.4158865222393487e-30\n",
      "2.3240135736200743e-14\n",
      "2.1256236877598718e-14\n",
      "0.009853085882800268\n",
      "0.006214449808244856\n",
      "0.011888806860563546\n",
      "1.4394256788614408e-14\n",
      "0.009484563309127156\n",
      "1.1300189386630738e-14\n",
      "0.007901692462783586\n",
      "3.6517186534824284e-18\n",
      "0.013280670140354368\n",
      "6.605851829001383e-15\n",
      "0.02640438592124159\n",
      "3.997600358748404e-15\n",
      "7.835819449287069e-16\n",
      "0.04935030681651271\n",
      "0.007297054828246723\n",
      "0.009539713088803343\n",
      "6.914472712756998e-16\n",
      "0.004605735494395593\n",
      "7.835293607854223e-16\n",
      "0.02281591860876554\n",
      "0.005305050458481627\n",
      "0.0\n",
      "2.816005014996383e-16\n",
      "0.0\n",
      "0.0162962267165288\n",
      "2.7922008807816967e-19\n"
     ]
    },
    {
     "data": {
      "text/plain": [
       "[<matplotlib.lines.Line2D at 0x11c2d7390>]"
      ]
     },
     "execution_count": 113,
     "metadata": {},
     "output_type": "execute_result"
    },
    {
     "data": {
      "image/png": "[encoded data removed]",
      "text/plain": [
       "<Figure size 432x288 with 1 Axes>"
      ]
     },
     "metadata": {
      "needs_background": "light"
     },
     "output_type": "display_data"
    }
   ],
   "source": [
    "#training loop\n",
    "w1 = np.random.randn()\n",
    "w2 = np.random.randn()\n",
    "b = np.random.randn()\n",
    "learning_rate = .5\n",
    "costs = []\n",
    "for x in range(100000):\n",
    "    r1 = np.random.randint(len(data))\n",
    "    point= data[r1]\n",
    "    \n",
    "    z = point[0]*w1 + point[1]*w2 +b\n",
    "    pred = sigmoid(z)\n",
    "    \n",
    "    target = point[2]\n",
    "    cost = np.square(pred-target)\n",
    "    costs.append(cost)\n",
    "    if x%1000==0:\n",
    "        print(cost)\n",
    "   \n",
    "    dcost_pred = 2 * (pred-target)\n",
    "    dpred_dz = sigmoid_p(z)\n",
    "    \n",
    "    dz_dw1 = point[0]\n",
    "    dz_dw2 = point[1]\n",
    "    dz_db = 1\n",
    "    \n",
    "    dcost_dz = dcost_pred * dpred_dz\n",
    "    \n",
    "    dcost_dw1 = dcost_dz * dz_dw1\n",
    "    dcost_dw2 = dcost_dz * dz_dw2\n",
    "    dcost_db = dcost_dz * dz_db\n",
    "    \n",
    "    w1= w1-learning_rate*dcost_dw1\n",
    "    w2=w2-learning_rate*dcost_dw2\n",
    "    b=b-learning_rate*dcost_db\n",
    "    \n",
    "plt.plot(costs)"
   ]
  },
  {
   "cell_type": "code",
   "execution_count": null,
   "metadata": {},
   "outputs": [],
   "source": []
  },
  {
   "cell_type": "code",
   "execution_count": 112,
   "metadata": {},
   "outputs": [
    {
     "name": "stdout",
     "output_type": "stream",
     "text": [
      "[3, 1.5, 1]\n",
      "Pred:  0.9158776183152038\n",
      "[2, 1, 0]\n",
      "Pred:  8.670986931979075e-09\n",
      "[4, 1.5, 1]\n",
      "Pred:  0.9999999955263505\n",
      "[3, 1, 0]\n",
      "Pred:  0.15112149044167994\n",
      "[3.5, 0.5, 1]\n",
      "Pred:  0.9295273498488367\n",
      "[2, 0.5, 0]\n",
      "Pred:  1.4178273134194207e-10\n",
      "[5.5, 1, 1]\n",
      "Pred:  1.0\n"
     ]
    }
   ],
   "source": [
    "  for i in range(len(data)):\n",
    "        point= data[i]\n",
    "        print(point)\n",
    "        z = point[0]*w1 + point[1]*w2 +b\n",
    "        pred = sigmoid(z)\n",
    "        print(\"Pred: \",pred)"
   ]
  },
  {
   "cell_type": "code",
   "execution_count": 114,
   "metadata": {},
   "outputs": [
    {
     "data": {
      "text/plain": [
       "0.9999999997812234"
      ]
     },
     "execution_count": 114,
     "metadata": {},
     "output_type": "execute_result"
    }
   ],
   "source": [
    "z = mystery_flower[0]*w1 + mystery_flower[1]*w2 +b\n",
    "pred = sigmoid(z)\n",
    "pred"
   ]
  }
 ],
 "metadata": {
  "kernelspec": {
   "display_name": "Python 3",
   "language": "python",
   "name": "python3"
  },
  "language_info": {
   "codemirror_mode": {
    "name": "ipython",
    "version": 3
   },
   "file_extension": ".py",
   "mimetype": "text/x-python",
   "name": "python",
   "nbconvert_exporter": "python",
   "pygments_lexer": "ipython3",
   "version": "3.7.1"
  }
 },
 "nbformat": 4,
 "nbformat_minor": 2
}
